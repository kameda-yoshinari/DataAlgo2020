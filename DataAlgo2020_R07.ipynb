{
  "nbformat": 4,
  "nbformat_minor": 0,
  "metadata": {
    "colab": {
      "name": "DataAlgo2020-R07",
      "provenance": [],
      "collapsed_sections": [],
      "authorship_tag": "ABX9TyPRB8emXb7nEhRHJWz1GxxJ",
      "include_colab_link": true
    },
    "kernelspec": {
      "name": "python3",
      "display_name": "Python 3"
    }
  },
  "cells": [
    {
      "cell_type": "markdown",
      "metadata": {
        "id": "view-in-github",
        "colab_type": "text"
      },
      "source": [
        "<a href=\"https://colab.research.google.com/github/kameda-yoshinari/DataAlgo2020/blob/master/DataAlgo2020_R07.ipynb\" target=\"_parent\"><img src=\"https://colab.research.google.com/assets/colab-badge.svg\" alt=\"Open In Colab\"/></a>"
      ]
    },
    {
      "cell_type": "markdown",
      "metadata": {
        "id": "-SqpuNOEWS-a",
        "colab_type": "text"
      },
      "source": [
        "# データ構造とアルゴリズム 第7週課題 (2020/06/17verA)\n",
        "\n",
        "---\n",
        "\n",
        "\n",
        "\n",
        "<font color=\"red\">\n",
        "★Ver.B以降の変更記録は末尾＆githubの履歴参照してください．  \n",
        "\n",
        "★下記３要素を必ず書き換えてから提出すること．\n",
        "</font>\n",
        "\n",
        "* 学籍番号：（これを消して記入；例 202099998）\n",
        "* 氏名：（これを消して記入；例 筑波太郎）\n",
        "* Colabアカウント：（これを消して記入；例 tsukuba.taro.xs@alumni.tsukuba.ac.jp）\n",
        "\n",
        "課題提出方法については，末尾参照．\n",
        "\n",
        "なお，課題実施に当たって，学生同士の相談は妨げない．\n",
        "ただし，その場合，必ず下記の情報を提供すること．\n",
        "申告があった場合は，論述などで内容が似ていたり，プログラムが似ていても減点はしない．（コピペレベルの同一文などは処罰対象）  \n",
        "**教えた側は加点対象となる．**\n",
        "\n",
        "**[教えた側]**\n",
        "\n",
        "教えた相手：＜氏名＞　＜学籍番号＞\n",
        "\n",
        "（何名いてもよい；教えた相手の内容が浅くなってないか確認すること）\n",
        "\n",
        "**[教わった側]**\n",
        "\n",
        "教わった相手：＜氏名＞　＜学籍番号＞\n",
        "\n",
        "（何名いてもよい；必ず教えた側に自分の名前を書いてもらうこと）\n",
        "\n",
        "**[グループワーク]**\n",
        "\n",
        "一緒に行った相手：＜氏名＞　＜学籍番号＞\n",
        "\n",
        "（何名いてもよいが，必ずお互いの名前を全員記すこと）\n"
      ]
    },
    {
      "cell_type": "markdown",
      "metadata": {
        "id": "8NUVKBVvmvtw",
        "colab_type": "text"
      },
      "source": [
        "---\n",
        "# 必須課題7A stable_marriages_Jプログラムの計算量\n",
        "\n",
        "<b>\n",
        "\n",
        "stable-marriages_J プログラムの時間計算量と空間計算量を議論せよ．\n",
        "\n",
        "</b>"
      ]
    },
    {
      "cell_type": "markdown",
      "metadata": {
        "id": "j_LNv7qr2Jcq",
        "colab_type": "text"
      },
      "source": [
        "（議論はここに記述）"
      ]
    },
    {
      "cell_type": "markdown",
      "metadata": {
        "id": "TjOgrYW8lAmy",
        "colab_type": "text"
      },
      "source": [
        "---\n",
        "# 必須課題7B 主専攻振り分けの安定結婚問題化\n",
        "\n",
        "<b>\n",
        "\n",
        "2020年度から秋に行われる主専攻振り分けでは，工学システム学類生2年生全員が，4主専攻の希望順を提出し，成績上位者から主専攻割り当てが決まる．今，4主専攻の定員合計と，2年生の数が同数の場合，これは安定結婚問題に他ならないことを示せ．２種の頂点集合は何か，またその好み順がどうなっているのか説明できればよい．なお，成績で同位はないものとする．  \n",
        "\n",
        "\n",
        "</b>"
      ]
    },
    {
      "cell_type": "markdown",
      "metadata": {
        "id": "B9Z8A8xin-Ru",
        "colab_type": "text"
      },
      "source": [
        "（議論はここに記述）"
      ]
    },
    {
      "cell_type": "markdown",
      "metadata": {
        "id": "KmFQYgYnQc2T",
        "colab_type": "text"
      },
      "source": [
        "---\n",
        "# 必須課題7C stable_marriages_Jプログラムの表示の解説\n",
        "\n",
        "<b>\n",
        "\n",
        "stable-marriages_J プログラム内のstabilitychecker()関数において，不満足ペアがないことを確認している．実行すると，\"Dissatisfied pair check\"の表示行のあと，下記のような行が出力される．これがどうして不満足ペアの確認になっているか，特に記号**A**から**P**に該当する数字や文字の意味を丁寧に説明せよ．（幾つかの記号は同じ内容であることに注意）．</b>  \n",
        "Male_**A** and Female\\_**B** : MPref\\_**C**\\_(**D**)=**E**  -**F**-  MPref\\_**G**\\_(**H**)=**I**  and  FPref\\_**J**\\_(**K**)=**L** -**M**- FPref\\_**N**\\_(**O**)=**P**    \n",
        "\n"
      ]
    },
    {
      "cell_type": "markdown",
      "metadata": {
        "id": "HcK0aWuTQxY4",
        "colab_type": "text"
      },
      "source": [
        "(議論はここに記述）"
      ]
    },
    {
      "cell_type": "markdown",
      "metadata": {
        "id": "hRiIuzTTANJ_",
        "colab_type": "text"
      },
      "source": [
        "---\n",
        "---\n",
        "# 発展課題7X 安定結婚とは何か  \n",
        "\n",
        "<b>\n",
        "\n",
        "頂点同数２部グラフの完全マッチングは，「安定結婚」であっても「幸福な結婚」とは言えないかもしれない．おそらく諸君もモヤモヤしているであろう．では，前提が同じままで，「幸福な結婚」を独自に定義して見よ．その定義に従うと完全マッチングである解が常には見つけられないことも示せ．\n",
        "\n",
        "</b>\n"
      ]
    },
    {
      "cell_type": "markdown",
      "metadata": {
        "id": "q4ZmHSMKBGDd",
        "colab_type": "text"
      },
      "source": [
        "（議論はここに記述）"
      ]
    },
    {
      "cell_type": "markdown",
      "metadata": {
        "id": "sh-BC5I0A0ye",
        "colab_type": "text"
      },
      "source": [
        "---\n",
        "# 発展課題7Y PreferenceFunctionによる実装  \n",
        "\n",
        "<b>\n",
        "\n",
        "stable-marriages_J プログラムにおいて，smpo[][]やsfpo[][]配列を用いる代わりに，UCBの資料にある通り，忠実にPreferenceFunction(m,f)を実装してプログラムを書き換えて見よ．関数は男性用と女性用の２種類必要なことに注意．実行結果は当然同じになる．ソースコードの提出に当たっては，PreferenceFunctionの実装に相当する部分とその内容が一目で分かるようコメント等を工夫して施すこと．\n",
        "\n",
        "</b>"
      ]
    },
    {
      "cell_type": "code",
      "metadata": {
        "id": "CGz65XfNP1ga",
        "colab_type": "code",
        "colab": {}
      },
      "source": [
        "%%writefile Report-7Y.c\n",
        "//(プログラムをここに．ベースはstable-marriages_J.cでよい）"
      ],
      "execution_count": null,
      "outputs": []
    },
    {
      "cell_type": "code",
      "metadata": {
        "id": "5UaRDftA1PLC",
        "colab_type": "code",
        "colab": {}
      },
      "source": [
        "!echo \"コンパイルと実行コマンドをここに（提出時に出力をつけておくこと）\""
      ],
      "execution_count": null,
      "outputs": []
    },
    {
      "cell_type": "markdown",
      "metadata": {
        "id": "c7rf54NjW5f2",
        "colab_type": "text"
      },
      "source": [
        "---\n",
        "# 課題提出法 \n",
        "\n",
        "筑波大学工学システム学類３年生向け．  \n",
        "FG24711 / FG34711．  \n",
        "\n",
        "必須課題は全て実施すること．\n",
        "発展課題はしなくともよいが，A+取得には発展課題を（全課題提出を通して）1つ以上実施していることが必要条件である．\n",
        "\n",
        "該当するmanabaに課題提出のエントリを設けるので，そこに本**Colab notebookを提出**すること．また，Google Drive上の該当する**Colab notebookへの共有リンク**を用意し合わせて提出すること．（採点時の効率を高めるために共有リンクの方を使うかもしれません）\n",
        "\n",
        "![共有可能なリンク](https://docs.google.com/drawings/d/e/2PACX-1vTDuOu8Z1nZFTqJ0yMKXedJwDnZx0hiKXoL56h21kQrDRj4C52aQX7Nn9QJZFZAgKV32lxTzuvNlory/pub?w=508&h=403)\n",
        "\n",
        "\n",
        "\n",
        "# 出典\n",
        "\n",
        "筑波大学工学システム学類  \n",
        "データ構造とアルゴリズム  \n",
        "担当：亀田能成  \n",
        "2020/06/17. ver.A 初版  \n",
        "\n",
        "\n"
      ]
    }
  ]
}