{
  "nbformat": 4,
  "nbformat_minor": 0,
  "metadata": {
    "colab": {
      "name": "DataAlgo2020-R08",
      "provenance": [],
      "collapsed_sections": [],
      "authorship_tag": "ABX9TyOoTwyxGL1Wz8CTV3x5a31H",
      "include_colab_link": true
    },
    "kernelspec": {
      "name": "python3",
      "display_name": "Python 3"
    }
  },
  "cells": [
    {
      "cell_type": "markdown",
      "metadata": {
        "id": "view-in-github",
        "colab_type": "text"
      },
      "source": [
        "<a href=\"https://colab.research.google.com/github/kameda-yoshinari/DataAlgo2020/blob/master/DataAlgo2020_R08.ipynb\" target=\"_parent\"><img src=\"https://colab.research.google.com/assets/colab-badge.svg\" alt=\"Open In Colab\"/></a>"
      ]
    },
    {
      "cell_type": "markdown",
      "metadata": {
        "id": "-SqpuNOEWS-a",
        "colab_type": "text"
      },
      "source": [
        "# データ構造とアルゴリズム 第8週課題 (2020/06/24verA)\n",
        "\n",
        "---\n",
        "\n",
        "\n",
        "\n",
        "<font color=\"red\">\n",
        "★Ver.B以降の変更記録は末尾＆githubの履歴参照してください．  \n",
        "\n",
        "★下記３要素を必ず書き換えてから提出すること．\n",
        "</font>\n",
        "\n",
        "* 学籍番号：（これを消して記入；例 202099998）\n",
        "* 氏名：（これを消して記入；例 筑波太郎）\n",
        "* Colabアカウント：（これを消して記入；例 tsukuba.taro.xs@alumni.tsukuba.ac.jp）\n",
        "\n",
        "課題提出方法については，末尾参照．\n",
        "\n",
        "なお，課題実施に当たって，学生同士の相談は妨げない．\n",
        "ただし，その場合，必ず下記の情報を提供すること．\n",
        "申告があった場合は，論述などで内容が似ていたり，プログラムが似ていても減点はしない．（コピペレベルの同一文などは処罰対象）  \n",
        "**教えた側は加点対象となる．**\n",
        "\n",
        "**[教えた側]**\n",
        "\n",
        "教えた相手：＜氏名＞　＜学籍番号＞\n",
        "\n",
        "（何名いてもよい；教えた相手の内容が浅くなってないか確認すること）\n",
        "\n",
        "**[教わった側]**\n",
        "\n",
        "教わった相手：＜氏名＞　＜学籍番号＞\n",
        "\n",
        "（何名いてもよい；必ず教えた側に自分の名前を書いてもらうこと）\n",
        "\n",
        "**[グループワーク]**\n",
        "\n",
        "一緒に行った相手：＜氏名＞　＜学籍番号＞\n",
        "\n",
        "（何名いてもよいが，必ずお互いの名前を全員記すこと）\n"
      ]
    },
    {
      "cell_type": "markdown",
      "metadata": {
        "id": "8NUVKBVvmvtw",
        "colab_type": "text"
      },
      "source": [
        "---\n",
        "# 必須課題8A 全解探索法の計算量  \n",
        "\n",
        "knighttour-bluteforce_J プログラムの時間計算量と空間計算量を議論せよ．盤のマスの数をNとしてよい．\n",
        "\n"
      ]
    },
    {
      "cell_type": "markdown",
      "metadata": {
        "id": "j_LNv7qr2Jcq",
        "colab_type": "text"
      },
      "source": [
        "（議論はここに記述）"
      ]
    },
    {
      "cell_type": "markdown",
      "metadata": {
        "id": "aExQhnAcClQB",
        "colab_type": "text"
      },
      "source": [
        "---\n",
        "# 必須課題8B バックトラック法での解候補の必要条件の実装\n",
        "knighttour-backtrack_J プログラムにおいて，「チェスの8x8の盤の中で」「同じマスにを2度通ることなしに（63手かけて）」「ナイトの移動方法のみで」「塗りつぶす」ことを確認している実装部分をそれぞれ示せ．"
      ]
    },
    {
      "cell_type": "markdown",
      "metadata": {
        "id": "RplBC85KCrzP",
        "colab_type": "text"
      },
      "source": [
        "（議論はここに記述）"
      ]
    },
    {
      "cell_type": "markdown",
      "metadata": {
        "id": "TjOgrYW8lAmy",
        "colab_type": "text"
      },
      "source": [
        "---\n",
        "# 必須課題8C 実行速度の改善  \n",
        "knighttour-bluteforce_J プログラムと knighttour-backtrack_J プログラムでは実行速度が問題になる．そこで，gccのコンパイルオプションについて調べ，実際にそれが実行速度にどのような違いをもたらすかを調査せよ．実行時間が1分以上かかるような事例で調査すること．"
      ]
    },
    {
      "cell_type": "markdown",
      "metadata": {
        "id": "B9Z8A8xin-Ru",
        "colab_type": "text"
      },
      "source": [
        "（議論はここに記述）"
      ]
    },
    {
      "cell_type": "markdown",
      "metadata": {
        "id": "KmFQYgYnQc2T",
        "colab_type": "text"
      },
      "source": [
        "---\n",
        "# 必須課題8D 斜め方向の衝突判定\n",
        "NQueens_Jプログラムにおいて，列xの行yに女王があるとき，右下がり方向に取り合いになる（衝突し得る）女王はすべて x+y が同じになり，しかもその値が 0 から　2N-2 の間に収まることを示せ．同じく，右上がり方向に取り合いになる（衝突し得る）女王はすべて x-y+N-1 が同じで，かつその値は 0 から 2N-2 までの間に収まることを示せ．なお，ここで右下がりとは，X軸正を右に，Y軸正を上に取った場合である．"
      ]
    },
    {
      "cell_type": "markdown",
      "metadata": {
        "id": "HcK0aWuTQxY4",
        "colab_type": "text"
      },
      "source": [
        "(議論はここに記述）"
      ]
    },
    {
      "cell_type": "markdown",
      "metadata": {
        "id": "BvxnQA-wDGgO",
        "colab_type": "text"
      },
      "source": [
        "---\n",
        "# 必須課題8E 問題の難易度と実行時間との関係\n",
        "ナンバープレースについて，出題サイト等に行って，人間向けの難易度の異なる問題を3つ以上用意し，それぞれで NumberPlace_Jプログラムを用いて実行時間を計測して，問題の難易度と実行時間との関係を考察せよ．そのような関係になる理由についても考察すること．\n"
      ]
    },
    {
      "cell_type": "markdown",
      "metadata": {
        "id": "tAevJP2QDYi1",
        "colab_type": "text"
      },
      "source": [
        "(議論はここに記述）"
      ]
    },
    {
      "cell_type": "markdown",
      "metadata": {
        "id": "hRiIuzTTANJ_",
        "colab_type": "text"
      },
      "source": [
        "---\n",
        "---\n",
        "# 発展課題8X X-SUDOKU  \n",
        "2本の対角線においても，1-9の数字を1つずつ配置するという制約を増やした問題をX-SUDOKUという．例えば [Puzzle madness](https://puzzlemadness.co.uk/xsudoku) などに出題がある．これを解くプログラムを作成せよ．"
      ]
    },
    {
      "cell_type": "code",
      "metadata": {
        "id": "CGz65XfNP1ga",
        "colab_type": "code",
        "colab": {}
      },
      "source": [
        "%%writefile X-Sudoku-8X.c\n",
        "//(プログラムをここに．ベースはNumberPlace_J.cでよい）"
      ],
      "execution_count": null,
      "outputs": []
    },
    {
      "cell_type": "code",
      "metadata": {
        "id": "5UaRDftA1PLC",
        "colab_type": "code",
        "colab": {}
      },
      "source": [
        "!echo \"コンパイルと実行コマンドをここに（提出時に出力をつけておくこと，例はX-sudoku-A.txtでよい）\""
      ],
      "execution_count": null,
      "outputs": []
    },
    {
      "cell_type": "markdown",
      "metadata": {
        "id": "c7rf54NjW5f2",
        "colab_type": "text"
      },
      "source": [
        "---\n",
        "# 課題提出法 \n",
        "\n",
        "筑波大学工学システム学類３年生向け．  \n",
        "FG24711 / FG34711．  \n",
        "\n",
        "必須課題は全て実施すること．\n",
        "発展課題はしなくともよいが，A+取得には発展課題を（全課題提出を通して）1つ以上実施していることが必要条件である．\n",
        "\n",
        "該当するmanabaに課題提出のエントリを設けるので，そこに本**Colab notebookを提出**すること．また，Google Drive上の該当する**Colab notebookへの共有リンク**を用意し合わせて提出すること．（採点時の効率を高めるために共有リンクの方を使うかもしれません）\n",
        "\n",
        "![共有可能なリンク](https://docs.google.com/drawings/d/e/2PACX-1vTDuOu8Z1nZFTqJ0yMKXedJwDnZx0hiKXoL56h21kQrDRj4C52aQX7Nn9QJZFZAgKV32lxTzuvNlory/pub?w=508&h=403)\n",
        "\n",
        "\n",
        "\n",
        "# 出典\n",
        "\n",
        "筑波大学工学システム学類  \n",
        "データ構造とアルゴリズム  \n",
        "担当：亀田能成  \n",
        "2020/06/24. ver.A 初版  \n",
        "\n",
        "\n"
      ]
    }
  ]
}