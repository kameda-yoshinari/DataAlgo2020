{
  "nbformat": 4,
  "nbformat_minor": 0,
  "metadata": {
    "colab": {
      "name": "DataAlgo2020-R09",
      "provenance": [],
      "collapsed_sections": [],
      "authorship_tag": "ABX9TyMDqdc3xP/JE2Y43BNgBlbf",
      "include_colab_link": true
    },
    "kernelspec": {
      "name": "python3",
      "display_name": "Python 3"
    }
  },
  "cells": [
    {
      "cell_type": "markdown",
      "metadata": {
        "id": "view-in-github",
        "colab_type": "text"
      },
      "source": [
        "<a href=\"https://colab.research.google.com/github/kameda-yoshinari/DataAlgo2020/blob/master/DataAlgo2020_R09.ipynb\" target=\"_parent\"><img src=\"https://colab.research.google.com/assets/colab-badge.svg\" alt=\"Open In Colab\"/></a>"
      ]
    },
    {
      "cell_type": "markdown",
      "metadata": {
        "id": "-SqpuNOEWS-a",
        "colab_type": "text"
      },
      "source": [
        "# データ構造とアルゴリズム 第9週課題 (2020/07/01verA)\n",
        "\n",
        "---\n",
        "\n",
        "\n",
        "\n",
        "<font color=\"red\">\n",
        "★Ver.B以降の変更記録は末尾＆githubの履歴参照してください．  \n",
        "\n",
        "★下記３要素を必ず書き換えてから提出すること．\n",
        "</font>\n",
        "\n",
        "* 学籍番号：（これを消して記入；例 202099998）\n",
        "* 氏名：（これを消して記入；例 筑波太郎）\n",
        "* Colabアカウント：（これを消して記入；例 tsukuba.taro.xs@alumni.tsukuba.ac.jp）\n",
        "\n",
        "課題提出方法については，末尾参照．\n",
        "\n",
        "なお，課題実施に当たって，学生同士の相談は妨げない．\n",
        "ただし，その場合，必ず下記の情報を提供すること．\n",
        "申告があった場合は，論述などで内容が似ていたり，プログラムが似ていても減点はしない．（コピペレベルの同一文などは処罰対象）  \n",
        "**教えた側は加点対象となる．**\n",
        "\n",
        "**[教えた側]**\n",
        "\n",
        "教えた相手：＜氏名＞　＜学籍番号＞\n",
        "\n",
        "（何名いてもよい；教えた相手の内容が浅くなってないか確認すること）\n",
        "\n",
        "**[教わった側]**\n",
        "\n",
        "教わった相手：＜氏名＞　＜学籍番号＞\n",
        "\n",
        "（何名いてもよい；必ず教えた側に自分の名前を書いてもらうこと）\n",
        "\n",
        "**[グループワーク]**\n",
        "\n",
        "一緒に行った相手：＜氏名＞　＜学籍番号＞\n",
        "\n",
        "（何名いてもよいが，必ずお互いの名前を全員記すこと）\n"
      ]
    },
    {
      "cell_type": "markdown",
      "metadata": {
        "id": "8NUVKBVvmvtw",
        "colab_type": "text"
      },
      "source": [
        "---\n",
        "# 必須課題9A ナップサック問題の計算量に関する考察    \n",
        "\n",
        "Knsapsack-bf_Jプログラム, Knapsack-bt_Jプログラム, およびKnapsack-bb_Jプログラムそれぞれについて，時間計算量と空間計算量について考察せよ．特に，時間計算量については，幾つかのプログラムにおいては，計算量が同じになってしまう状況が考えられる．そのことについても言及せよ．\n",
        "\n"
      ]
    },
    {
      "cell_type": "markdown",
      "metadata": {
        "id": "j_LNv7qr2Jcq",
        "colab_type": "text"
      },
      "source": [
        "（議論はここに記述）"
      ]
    },
    {
      "cell_type": "markdown",
      "metadata": {
        "id": "aExQhnAcClQB",
        "colab_type": "text"
      },
      "source": [
        "---\n",
        "# 必須課題9B ナップサック問題を解くプログラムの計算量の実測  \n",
        "簡単でよいので，Knsapsack-bf_Jプログラム, Knapsack-bt_Jプログラム, およびKnapsack-bb_Jプログラムのそれぞれについて，計算量を実際に測定せよ．pickobject()関数の呼び出し回数を数えるプログラムを作成し，その数で3プログラムの計算コストを比較すること．ナップサックの重み制限を変更して，その変化を表にまとめること．重み制限を変えて10回以上実験すること．（つまり下記の表で10行以上のデータが集まるようにすること)\n",
        "結果を表にまとめ，考察もすること．\n",
        "\n",
        "|制限|bf|bt|bb|\n",
        "|---|--|--|--|\n",
        "|100|???|???|???|\n",
        "|200|???|???|???|\n",
        "|...|???|???|???|\n"
      ]
    },
    {
      "cell_type": "markdown",
      "metadata": {
        "id": "RplBC85KCrzP",
        "colab_type": "text"
      },
      "source": [
        "（議論はここに記述）"
      ]
    },
    {
      "cell_type": "markdown",
      "metadata": {
        "id": "TjOgrYW8lAmy",
        "colab_type": "text"
      },
      "source": [
        "---\n",
        "# 必須課題9C 問題の置換にかかる計算量  \n",
        "整数ナップサック問題(6.3.参照)を最長経路問題に変換するのに必要な時間計算量と空間計算量を，導出過程を含めて示せ．整数ナップサック問題の品物の数を正整数N，ナップサック重量制限を正整数Wとする．なお，整数ナップサック問題では，各品物の重量は正整数で表される．"
      ]
    },
    {
      "cell_type": "markdown",
      "metadata": {
        "id": "B9Z8A8xin-Ru",
        "colab_type": "text"
      },
      "source": [
        "（議論はここに記述）"
      ]
    },
    {
      "cell_type": "markdown",
      "metadata": {
        "id": "B6j6tdS-btea",
        "colab_type": "text"
      },
      "source": [
        "---\n",
        "---\n",
        "# 発展課題9X 最小全域木を求めるプリムのアルゴリズム  \n",
        "最小全域木を求めるプリムのアルゴリズムを解説し，最小経路問題の解法の一つであるダイクストラのアルゴリズムとの相似点について言及せよ．何かしらの出典を見て纏めるであろうから，その出典をURL等で明確に示すこと．\n"
      ]
    },
    {
      "cell_type": "markdown",
      "metadata": {
        "id": "m_OmABYtcQYH",
        "colab_type": "text"
      },
      "source": [
        "（議論はここに記述）"
      ]
    },
    {
      "cell_type": "markdown",
      "metadata": {
        "id": "c7rf54NjW5f2",
        "colab_type": "text"
      },
      "source": [
        "---\n",
        "---\n",
        "# 課題提出法 \n",
        "\n",
        "筑波大学工学システム学類３年生向け．  \n",
        "FG24711 / FG34711．  \n",
        "\n",
        "必須課題は全て実施すること．\n",
        "発展課題はしなくともよいが，A+取得には発展課題を（全課題提出を通して）1つ以上実施していることが必要条件である．\n",
        "\n",
        "該当するmanabaに課題提出のエントリを設けるので，そこに本**Colab notebookを提出**すること．また，Google Drive上の該当する**Colab notebookへの共有リンク**を用意し合わせて提出すること．（採点時の効率を高めるために共有リンクの方を使うかもしれません）\n",
        "\n",
        "![共有可能なリンク](https://docs.google.com/drawings/d/e/2PACX-1vTDuOu8Z1nZFTqJ0yMKXedJwDnZx0hiKXoL56h21kQrDRj4C52aQX7Nn9QJZFZAgKV32lxTzuvNlory/pub?w=508&h=403)\n",
        "\n",
        "\n",
        "\n",
        "# 出典\n",
        "\n",
        "筑波大学工学システム学類  \n",
        "データ構造とアルゴリズム  \n",
        "担当：亀田能成  \n",
        "2020/07/01. ver.A 初版  \n",
        "\n",
        "\n"
      ]
    }
  ]
}